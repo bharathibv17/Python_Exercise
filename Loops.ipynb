{
 "cells": [
  {
   "cell_type": "markdown",
   "id": "2aae770a",
   "metadata": {},
   "source": [
    "# Loops\n",
    "\n",
    "Python has two primitive loop commands.\n",
    "\n",
    "1. While loops\n",
    "2. For loops"
   ]
  },
  {
   "cell_type": "markdown",
   "id": "8dd63f1c",
   "metadata": {},
   "source": [
    "## While Loops\n",
    "\n",
    "with the while loops we can execute as set of statements as long as a condition is true"
   ]
  },
  {
   "cell_type": "code",
   "execution_count": null,
   "id": "c8cd828a",
   "metadata": {},
   "outputs": [],
   "source": [
    "#print i as long as i is less than 6\n",
    "i = 1\n",
    "\n",
    "while i < 6:\n",
    "    print(i)\n",
    "    i += 1"
   ]
  },
  {
   "cell_type": "code",
   "execution_count": null,
   "id": "add2bd94",
   "metadata": {},
   "outputs": [],
   "source": [
    "i = 1\n",
    "\n",
    "while i < 5:\n",
    "    print(i)\n",
    "    i += 1"
   ]
  },
  {
   "cell_type": "markdown",
   "id": "9b255dc0",
   "metadata": {},
   "source": [
    "### Break Statement:\n",
    "\n",
    "with the break statement we can stop the loop even if while condition is true."
   ]
  },
  {
   "cell_type": "code",
   "execution_count": null,
   "id": "63f7fa02",
   "metadata": {},
   "outputs": [],
   "source": [
    "i = 1\n",
    "\n",
    "while i < 6:\n",
    "    print(i)\n",
    "    if i == 3:\n",
    "        break\n",
    "    i += 1"
   ]
  },
  {
   "cell_type": "code",
   "execution_count": null,
   "id": "e508c516",
   "metadata": {},
   "outputs": [],
   "source": [
    "i = 1\n",
    "\n",
    "while i < 10:\n",
    "    print(i)\n",
    "    if i == 5:\n",
    "        break\n",
    "    i += 1"
   ]
  },
  {
   "cell_type": "markdown",
   "id": "28fa4886",
   "metadata": {},
   "source": [
    "### Continue statement\n",
    "\n",
    "with the continue statement we can stop the current iteration, and continue with the next."
   ]
  },
  {
   "cell_type": "code",
   "execution_count": null,
   "id": "61d8bd52",
   "metadata": {},
   "outputs": [],
   "source": [
    "#continue to the next iteration if i is 3:\n",
    "\n",
    "i = 0\n",
    "\n",
    "while i < 5:\n",
    "    i += 1\n",
    "    if i == 3:\n",
    "        continue\n",
    "    print(i)"
   ]
  },
  {
   "cell_type": "code",
   "execution_count": null,
   "id": "0467059b",
   "metadata": {},
   "outputs": [],
   "source": [
    "i = 0\n",
    "\n",
    "while i < 10:\n",
    "    i += 1\n",
    "    if i == 5:\n",
    "        continue\n",
    "    print(i)"
   ]
  },
  {
   "cell_type": "markdown",
   "id": "ef06d65b",
   "metadata": {},
   "source": [
    "### The else statement\n",
    "\n",
    "with the else statement we can run a block of code once the when the condition no longer is true"
   ]
  },
  {
   "cell_type": "code",
   "execution_count": null,
   "id": "100f6496",
   "metadata": {},
   "outputs": [],
   "source": [
    "#print a message once the condition is false\n",
    "\n",
    "i = 0\n",
    "\n",
    "while i < 6:\n",
    "    print(i)\n",
    "    i += 1\n",
    "else:\n",
    "    print('i is no longer less than 6')"
   ]
  },
  {
   "cell_type": "code",
   "execution_count": null,
   "id": "46499e2a",
   "metadata": {},
   "outputs": [],
   "source": [
    "i = 0\n",
    "\n",
    "while i < 5:\n",
    "    print(i)\n",
    "    i += 1\n",
    "else:\n",
    "    print(\"i is no longer less than 5\")"
   ]
  },
  {
   "cell_type": "markdown",
   "id": "b5b72660",
   "metadata": {},
   "source": [
    "### Write a program to print the following using the while loop\n",
    "\n",
    "1. First 10 Even Numbers\n",
    "2. First 10 Odd Numbers\n",
    "3. First 10 Natural Numbers\n",
    "4. First 10 whole Number"
   ]
  },
  {
   "cell_type": "code",
   "execution_count": null,
   "id": "f40ce990",
   "metadata": {},
   "outputs": [],
   "source": [
    "num = 2\n",
    "\n",
    "while num <= 20:\n",
    "    print(num)\n",
    "    num = num + 2"
   ]
  },
  {
   "cell_type": "code",
   "execution_count": null,
   "id": "b337b338",
   "metadata": {},
   "outputs": [],
   "source": [
    "num = 1\n",
    "\n",
    "while num <= 20:\n",
    "    print(num)\n",
    "    num = num + 2"
   ]
  },
  {
   "cell_type": "code",
   "execution_count": null,
   "id": "159bdd44",
   "metadata": {},
   "outputs": [],
   "source": [
    "num = 1\n",
    "\n",
    "while num <=10:\n",
    "    print(num)\n",
    "    num = num + 1"
   ]
  },
  {
   "cell_type": "code",
   "execution_count": null,
   "id": "c0e620b4",
   "metadata": {},
   "outputs": [],
   "source": [
    "num = 0\n",
    "\n",
    "while num < 10:\n",
    "    print(num)\n",
    "    num = num +1"
   ]
  },
  {
   "cell_type": "markdown",
   "id": "3feb2423",
   "metadata": {},
   "source": [
    "### Write a program to print first 10 integers and their squares using while loops"
   ]
  },
  {
   "cell_type": "code",
   "execution_count": null,
   "id": "26a7a5e0",
   "metadata": {},
   "outputs": [],
   "source": [
    "int_num = 0\n",
    "\n",
    "while int_num < 10:\n",
    "    print(int_num)\n",
    "    int_num = int_num + 1"
   ]
  },
  {
   "cell_type": "code",
   "execution_count": null,
   "id": "7a8721b7",
   "metadata": {},
   "outputs": [],
   "source": [
    "num = 1\n",
    "\n",
    "print(\"Numbers\\t\\tSquares\")\n",
    "while num <=10:\n",
    "    print(num,\"\\t\\t\\t\\t\",num**2)\n",
    "    num = num + 1"
   ]
  },
  {
   "cell_type": "code",
   "execution_count": null,
   "id": "334a539f",
   "metadata": {},
   "outputs": [],
   "source": [
    "num = 1\n",
    "\n",
    "print(\"Numbers\\t\\t\\t\\t Square\")\n",
    "while num <=20:\n",
    "    print(num,\"\\t\\t\\t\\t\",num**2)\n",
    "    num = num +1"
   ]
  },
  {
   "cell_type": "markdown",
   "id": "bdaf3be6",
   "metadata": {},
   "source": [
    "### Write for loop statement to print the following series"
   ]
  },
  {
   "cell_type": "code",
   "execution_count": null,
   "id": "12c2d6be",
   "metadata": {},
   "outputs": [],
   "source": [
    "num = 10\n",
    "\n",
    "while num<=300:\n",
    "    print(num,end=\", \")\n",
    "    num = num + 10"
   ]
  },
  {
   "cell_type": "code",
   "execution_count": null,
   "id": "5666d220",
   "metadata": {},
   "outputs": [],
   "source": [
    "num = 20\n",
    "\n",
    "while num <= 200:\n",
    "    print(num,end=\",\")\n",
    "    num = num + 20"
   ]
  },
  {
   "cell_type": "markdown",
   "id": "a68a295f",
   "metadata": {},
   "source": [
    "### Write a while loop statement to print the following series\n",
    "\n",
    "105,98,91......7"
   ]
  },
  {
   "cell_type": "code",
   "execution_count": null,
   "id": "333207e8",
   "metadata": {},
   "outputs": [],
   "source": [
    "num = 105\n",
    "\n",
    "while num >=7:\n",
    "    print(num)\n",
    "    num = num - 7"
   ]
  },
  {
   "cell_type": "markdown",
   "id": "a785154c",
   "metadata": {},
   "source": [
    "### Write a program to print first 10 natural numbers in reverse order using while loo"
   ]
  },
  {
   "cell_type": "code",
   "execution_count": null,
   "id": "809ebf21",
   "metadata": {},
   "outputs": [],
   "source": [
    "num = 10\n",
    "\n",
    "while num >= 1:\n",
    "    print(num)\n",
    "    num = num -1"
   ]
  },
  {
   "cell_type": "code",
   "execution_count": null,
   "id": "a06989de",
   "metadata": {},
   "outputs": [],
   "source": []
  }
 ],
 "metadata": {
  "kernelspec": {
   "display_name": "Python 3 (ipykernel)",
   "language": "python",
   "name": "python3"
  },
  "language_info": {
   "codemirror_mode": {
    "name": "ipython",
    "version": 3
   },
   "file_extension": ".py",
   "mimetype": "text/x-python",
   "name": "python",
   "nbconvert_exporter": "python",
   "pygments_lexer": "ipython3",
   "version": "3.11.3"
  }
 },
 "nbformat": 4,
 "nbformat_minor": 5
}
