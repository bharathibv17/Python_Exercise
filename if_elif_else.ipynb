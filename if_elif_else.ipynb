{
 "cells": [
  {
   "cell_type": "markdown",
   "id": "292bf309",
   "metadata": {},
   "source": [
    "Python supports the usual logical conditions and mathematics\n",
    "\n",
    "\n",
    "Equal : a == b\n",
    "\n",
    "not equal : a != b\n",
    "\n",
    "Less than : a < b\n",
    "\n",
    "Greater than : a > b\n",
    "\n",
    "less or equal to : a <= b\n",
    "\n",
    "greater or equal to : a >= b\n",
    "\n",
    "These conditions can be used in several ways, most commonly in \"if statements\" and loops\n",
    "\n",
    "An \"if Statement\" is written by using the if keyword\n"
   ]
  },
  {
   "cell_type": "code",
   "execution_count": 1,
   "id": "39511785",
   "metadata": {},
   "outputs": [
    {
     "name": "stdout",
     "output_type": "stream",
     "text": [
      "b is greater than a\n"
     ]
    }
   ],
   "source": [
    "a = 33\n",
    "b = 200\n",
    "\n",
    "if b > a:\n",
    "    print(\"b is greater than a\")"
   ]
  },
  {
   "cell_type": "markdown",
   "id": "326fa67d",
   "metadata": {},
   "source": [
    "### Identation\n",
    "\n",
    "Python relies on indentation(whitespace at the beginning of a line) to define scope of code."
   ]
  },
  {
   "cell_type": "code",
   "execution_count": 3,
   "id": "2190a549",
   "metadata": {},
   "outputs": [
    {
     "ename": "IndentationError",
     "evalue": "expected an indented block after 'if' statement on line 4 (170397834.py, line 5)",
     "output_type": "error",
     "traceback": [
      "\u001b[1;36m  Cell \u001b[1;32mIn[3], line 5\u001b[1;36m\u001b[0m\n\u001b[1;33m    print(\"b is greater than a\")\u001b[0m\n\u001b[1;37m    ^\u001b[0m\n\u001b[1;31mIndentationError\u001b[0m\u001b[1;31m:\u001b[0m expected an indented block after 'if' statement on line 4\n"
     ]
    }
   ],
   "source": [
    "a = 33\n",
    "b = 200\n",
    "\n",
    "if b > a:\n",
    "print(\"b is greater than a\") # this will give an error"
   ]
  },
  {
   "cell_type": "markdown",
   "id": "18a5dc44",
   "metadata": {},
   "source": [
    "## ELIF\n",
    "\n",
    "The elif keyword in python's way of saying \"if the previous conditions were not true, then try this condition\""
   ]
  },
  {
   "cell_type": "code",
   "execution_count": 4,
   "id": "e43e6a60",
   "metadata": {},
   "outputs": [
    {
     "name": "stdout",
     "output_type": "stream",
     "text": [
      "b and a are equal\n"
     ]
    }
   ],
   "source": [
    "a = 20\n",
    "b = 20\n",
    "\n",
    "if b > a:\n",
    "    print(\"b is greater than a\")\n",
    "elif a == b:\n",
    "    print(\"b and a are equal\")"
   ]
  },
  {
   "cell_type": "code",
   "execution_count": 5,
   "id": "20c17450",
   "metadata": {},
   "outputs": [
    {
     "name": "stdout",
     "output_type": "stream",
     "text": [
      "a is greater than b\n"
     ]
    }
   ],
   "source": [
    "a = 300\n",
    "b = 20\n",
    "\n",
    "if b > a:\n",
    "    print(\"b is greater than a\")\n",
    "elif a > b:\n",
    "    print(\"a is greater than b\")"
   ]
  },
  {
   "cell_type": "markdown",
   "id": "b2671861",
   "metadata": {},
   "source": [
    "## Else\n",
    "\n",
    "else keyword catches anything which isn't caught by the preceding conditions"
   ]
  },
  {
   "cell_type": "code",
   "execution_count": 6,
   "id": "2b3452ae",
   "metadata": {},
   "outputs": [
    {
     "name": "stdout",
     "output_type": "stream",
     "text": [
      "a is greater than b\n"
     ]
    }
   ],
   "source": [
    "a = 200\n",
    "b = 33\n",
    "\n",
    "if b > a:\n",
    "    print(\"b is greater than a\")\n",
    "elif a == b:\n",
    "    print(\"a and b are equal\")\n",
    "else:\n",
    "    print(\"a is greater than b\")"
   ]
  },
  {
   "cell_type": "markdown",
   "id": "6d8e1013",
   "metadata": {},
   "source": [
    "you can also have an else without the elif:"
   ]
  },
  {
   "cell_type": "code",
   "execution_count": 7,
   "id": "74dac1eb",
   "metadata": {},
   "outputs": [
    {
     "name": "stdout",
     "output_type": "stream",
     "text": [
      "a is greater\n"
     ]
    }
   ],
   "source": [
    "a = 200\n",
    "b = 33\n",
    "\n",
    "if b > a:\n",
    "    print(\"b is greater than a\")\n",
    "else:\n",
    "    print(\"a is greater\")"
   ]
  },
  {
   "cell_type": "markdown",
   "id": "9116ff5c",
   "metadata": {},
   "source": [
    "### Short hand\n",
    "\n",
    "if you have only one statement to execute, you can put on the same line as the if statement"
   ]
  },
  {
   "cell_type": "code",
   "execution_count": 9,
   "id": "5b6b2a6c",
   "metadata": {},
   "outputs": [
    {
     "name": "stdout",
     "output_type": "stream",
     "text": [
      "a is greater than b\n"
     ]
    }
   ],
   "source": [
    "if a > b: print(\"a is greater than b\")"
   ]
  },
  {
   "cell_type": "code",
   "execution_count": 11,
   "id": "467b8124",
   "metadata": {},
   "outputs": [
    {
     "name": "stdout",
     "output_type": "stream",
     "text": [
      "B\n"
     ]
    }
   ],
   "source": [
    "a = 20\n",
    "b = 320\n",
    "print(\"A\") if a > b else print(\"B\")"
   ]
  },
  {
   "cell_type": "code",
   "execution_count": 16,
   "id": "d80f1cbd",
   "metadata": {},
   "outputs": [
    {
     "name": "stdout",
     "output_type": "stream",
     "text": [
      "==\n"
     ]
    }
   ],
   "source": [
    "a = 330\n",
    "b = 330\n",
    "print(\"A\") if a > b else print(\"==\") if a==b else print(\"B\")"
   ]
  },
  {
   "cell_type": "markdown",
   "id": "12bafc36",
   "metadata": {},
   "source": [
    "### AND\n",
    "\n",
    "and keyword is a logical operator, and is used to combine conditional statement"
   ]
  },
  {
   "cell_type": "code",
   "execution_count": 17,
   "id": "7969acb6",
   "metadata": {},
   "outputs": [
    {
     "name": "stdout",
     "output_type": "stream",
     "text": [
      "Both the conditions are true\n"
     ]
    }
   ],
   "source": [
    "#Example\n",
    "#Test if a is greater than b, AND if c is greater than a:\n",
    "\n",
    "a = 200\n",
    "b = 33\n",
    "c = 500\n",
    "\n",
    "if a > b and c > a:\n",
    "    print(\"Both the conditions are true\")"
   ]
  },
  {
   "cell_type": "code",
   "execution_count": 19,
   "id": "8b7c7b1f",
   "metadata": {},
   "outputs": [],
   "source": [
    "a = 100\n",
    "b = 50\n",
    "c = 25\n",
    "if a > b and a > c:\n",
    "    print(\"Both the conditions are true\")"
   ]
  },
  {
   "cell_type": "markdown",
   "id": "e33076ff",
   "metadata": {},
   "source": [
    "### OR\n",
    "\n",
    "or keyword is a logical operator, and is used to combine conditional statements"
   ]
  },
  {
   "cell_type": "code",
   "execution_count": 20,
   "id": "668b96b0",
   "metadata": {},
   "outputs": [
    {
     "name": "stdout",
     "output_type": "stream",
     "text": [
      "atleast one condition is true\n"
     ]
    }
   ],
   "source": [
    "#Example\n",
    "#Test if a is greater than b, OR if a is greater than c:\n",
    "\n",
    "a = 200\n",
    "b = 33\n",
    "c = 500\n",
    "\n",
    "if a > b or a < c:\n",
    "    print(\"atleast one condition is true\")"
   ]
  },
  {
   "cell_type": "code",
   "execution_count": 24,
   "id": "cb3670fb",
   "metadata": {},
   "outputs": [
    {
     "name": "stdout",
     "output_type": "stream",
     "text": [
      "atleast one condition is true\n"
     ]
    }
   ],
   "source": [
    "a = 50\n",
    "b = 25\n",
    "c = 40\n",
    "\n",
    "if a > c or b < c:\n",
    "    print(\"atleast one condition is true\")"
   ]
  },
  {
   "cell_type": "markdown",
   "id": "9ef81b9b",
   "metadata": {},
   "source": [
    "### Nested if"
   ]
  },
  {
   "cell_type": "code",
   "execution_count": 25,
   "id": "00c47582",
   "metadata": {},
   "outputs": [
    {
     "name": "stdout",
     "output_type": "stream",
     "text": [
      "Above ten\n",
      "and also above twenty\n"
     ]
    }
   ],
   "source": [
    "x = 41\n",
    "\n",
    "if x > 10:\n",
    "    print(\"Above ten\")\n",
    "    if x > 20:\n",
    "        print(\"and also above twenty\")\n",
    "    else:\n",
    "        print(\"but not above 20\")"
   ]
  },
  {
   "cell_type": "code",
   "execution_count": 29,
   "id": "957d45fc",
   "metadata": {},
   "outputs": [
    {
     "name": "stdout",
     "output_type": "stream",
     "text": [
      "Less than 10\n"
     ]
    }
   ],
   "source": [
    "x = 9\n",
    "\n",
    "if x > 10:\n",
    "    print(\"Above ten\")\n",
    "    if x > 20:\n",
    "        print(\"and also above twenty\")\n",
    "    else:\n",
    "        print(\"but not above 20\")\n",
    "else:\n",
    "    print(\"Less than 10\")"
   ]
  },
  {
   "cell_type": "code",
   "execution_count": 30,
   "id": "a6ad8afe",
   "metadata": {},
   "outputs": [],
   "source": [
    "a = 33\n",
    "b = 200\n",
    "\n",
    "if b > a:\n",
    "    pass"
   ]
  },
  {
   "cell_type": "code",
   "execution_count": null,
   "id": "2f227d6e",
   "metadata": {},
   "outputs": [],
   "source": []
  }
 ],
 "metadata": {
  "kernelspec": {
   "display_name": "Python 3 (ipykernel)",
   "language": "python",
   "name": "python3"
  },
  "language_info": {
   "codemirror_mode": {
    "name": "ipython",
    "version": 3
   },
   "file_extension": ".py",
   "mimetype": "text/x-python",
   "name": "python",
   "nbconvert_exporter": "python",
   "pygments_lexer": "ipython3",
   "version": "3.11.3"
  }
 },
 "nbformat": 4,
 "nbformat_minor": 5
}
